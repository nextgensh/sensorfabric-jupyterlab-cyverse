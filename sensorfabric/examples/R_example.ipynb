{
 "cells": [
  {
   "cell_type": "markdown",
   "id": "9c267973-d1c9-4161-a3c0-d7dfb4430356",
   "metadata": {
    "tags": []
   },
   "source": [
    "# R Example"
   ]
  },
  {
   "cell_type": "markdown",
   "id": "50bccef1-42de-4f9a-b850-5d0b465aea1f",
   "metadata": {},
   "source": [
    "Note - Connecting directly to sensorfabric and running SQL queries is currently not supported in R. However you can refer to the `example.ipynb` to see how you can use Python to run SQL queries and then save the results as csv files to be accessed an analyzed in R here.\n",
    "\n",
    "We will soon be adding this feature by Fall 2023."
   ]
  },
  {
   "cell_type": "code",
   "execution_count": 1,
   "id": "fdcdf697-2146-4610-999a-d39d6ac41be3",
   "metadata": {
    "tags": []
   },
   "outputs": [],
   "source": [
    "my_data <- read.csv('restinghr_summary.csv')"
   ]
  },
  {
   "cell_type": "code",
   "execution_count": 2,
   "id": "4ee81b00-c24c-408c-94e4-c390a829d711",
   "metadata": {
    "tags": []
   },
   "outputs": [
    {
     "data": {
      "text/html": [
       "<table class=\"dataframe\">\n",
       "<caption>A data.frame: 18 × 5</caption>\n",
       "<thead>\n",
       "\t<tr><th scope=col>X</th><th scope=col>participantidentifier</th><th scope=col>avg_hr</th><th scope=col>min_hr</th><th scope=col>max_hr</th></tr>\n",
       "\t<tr><th scope=col>&lt;int&gt;</th><th scope=col>&lt;chr&gt;</th><th scope=col>&lt;dbl&gt;</th><th scope=col>&lt;dbl&gt;</th><th scope=col>&lt;dbl&gt;</th></tr>\n",
       "</thead>\n",
       "<tbody>\n",
       "\t<tr><td> 0</td><td>p0 </td><td>83.82558</td><td>76</td><td>90</td></tr>\n",
       "\t<tr><td> 1</td><td>p1 </td><td>83.03448</td><td>80</td><td>86</td></tr>\n",
       "\t<tr><td> 2</td><td>p2 </td><td>74.89845</td><td>67</td><td>83</td></tr>\n",
       "\t<tr><td> 3</td><td>p3 </td><td>74.28378</td><td>68</td><td>82</td></tr>\n",
       "\t<tr><td> 4</td><td>p4 </td><td>70.88571</td><td>65</td><td>76</td></tr>\n",
       "\t<tr><td> 5</td><td>p5 </td><td>69.02778</td><td>60</td><td>76</td></tr>\n",
       "\t<tr><td> 6</td><td>p6 </td><td>68.72414</td><td>62</td><td>75</td></tr>\n",
       "\t<tr><td> 7</td><td>p7 </td><td>67.50000</td><td>67</td><td>68</td></tr>\n",
       "\t<tr><td> 8</td><td>p8 </td><td>64.13636</td><td>60</td><td>69</td></tr>\n",
       "\t<tr><td> 9</td><td>p9 </td><td>64.09091</td><td>57</td><td>70</td></tr>\n",
       "\t<tr><td>10</td><td>p10</td><td>63.53315</td><td>56</td><td>73</td></tr>\n",
       "\t<tr><td>11</td><td>p11</td><td>63.23810</td><td>60</td><td>68</td></tr>\n",
       "\t<tr><td>12</td><td>p12</td><td>61.11111</td><td>56</td><td>66</td></tr>\n",
       "\t<tr><td>13</td><td>p13</td><td>61.06818</td><td>56</td><td>69</td></tr>\n",
       "\t<tr><td>14</td><td>p14</td><td>60.67816</td><td>56</td><td>68</td></tr>\n",
       "\t<tr><td>15</td><td>p15</td><td>60.05814</td><td>53</td><td>71</td></tr>\n",
       "\t<tr><td>16</td><td>p16</td><td>59.44706</td><td>55</td><td>64</td></tr>\n",
       "\t<tr><td>17</td><td>p17</td><td>55.45977</td><td>49</td><td>61</td></tr>\n",
       "</tbody>\n",
       "</table>\n"
      ],
      "text/latex": [
       "A data.frame: 18 × 5\n",
       "\\begin{tabular}{lllll}\n",
       " X & participantidentifier & avg\\_hr & min\\_hr & max\\_hr\\\\\n",
       " <int> & <chr> & <dbl> & <dbl> & <dbl>\\\\\n",
       "\\hline\n",
       "\t  0 & p0  & 83.82558 & 76 & 90\\\\\n",
       "\t  1 & p1  & 83.03448 & 80 & 86\\\\\n",
       "\t  2 & p2  & 74.89845 & 67 & 83\\\\\n",
       "\t  3 & p3  & 74.28378 & 68 & 82\\\\\n",
       "\t  4 & p4  & 70.88571 & 65 & 76\\\\\n",
       "\t  5 & p5  & 69.02778 & 60 & 76\\\\\n",
       "\t  6 & p6  & 68.72414 & 62 & 75\\\\\n",
       "\t  7 & p7  & 67.50000 & 67 & 68\\\\\n",
       "\t  8 & p8  & 64.13636 & 60 & 69\\\\\n",
       "\t  9 & p9  & 64.09091 & 57 & 70\\\\\n",
       "\t 10 & p10 & 63.53315 & 56 & 73\\\\\n",
       "\t 11 & p11 & 63.23810 & 60 & 68\\\\\n",
       "\t 12 & p12 & 61.11111 & 56 & 66\\\\\n",
       "\t 13 & p13 & 61.06818 & 56 & 69\\\\\n",
       "\t 14 & p14 & 60.67816 & 56 & 68\\\\\n",
       "\t 15 & p15 & 60.05814 & 53 & 71\\\\\n",
       "\t 16 & p16 & 59.44706 & 55 & 64\\\\\n",
       "\t 17 & p17 & 55.45977 & 49 & 61\\\\\n",
       "\\end{tabular}\n"
      ],
      "text/markdown": [
       "\n",
       "A data.frame: 18 × 5\n",
       "\n",
       "| X &lt;int&gt; | participantidentifier &lt;chr&gt; | avg_hr &lt;dbl&gt; | min_hr &lt;dbl&gt; | max_hr &lt;dbl&gt; |\n",
       "|---|---|---|---|---|\n",
       "|  0 | p0  | 83.82558 | 76 | 90 |\n",
       "|  1 | p1  | 83.03448 | 80 | 86 |\n",
       "|  2 | p2  | 74.89845 | 67 | 83 |\n",
       "|  3 | p3  | 74.28378 | 68 | 82 |\n",
       "|  4 | p4  | 70.88571 | 65 | 76 |\n",
       "|  5 | p5  | 69.02778 | 60 | 76 |\n",
       "|  6 | p6  | 68.72414 | 62 | 75 |\n",
       "|  7 | p7  | 67.50000 | 67 | 68 |\n",
       "|  8 | p8  | 64.13636 | 60 | 69 |\n",
       "|  9 | p9  | 64.09091 | 57 | 70 |\n",
       "| 10 | p10 | 63.53315 | 56 | 73 |\n",
       "| 11 | p11 | 63.23810 | 60 | 68 |\n",
       "| 12 | p12 | 61.11111 | 56 | 66 |\n",
       "| 13 | p13 | 61.06818 | 56 | 69 |\n",
       "| 14 | p14 | 60.67816 | 56 | 68 |\n",
       "| 15 | p15 | 60.05814 | 53 | 71 |\n",
       "| 16 | p16 | 59.44706 | 55 | 64 |\n",
       "| 17 | p17 | 55.45977 | 49 | 61 |\n",
       "\n"
      ],
      "text/plain": [
       "   X  participantidentifier avg_hr   min_hr max_hr\n",
       "1   0 p0                    83.82558 76     90    \n",
       "2   1 p1                    83.03448 80     86    \n",
       "3   2 p2                    74.89845 67     83    \n",
       "4   3 p3                    74.28378 68     82    \n",
       "5   4 p4                    70.88571 65     76    \n",
       "6   5 p5                    69.02778 60     76    \n",
       "7   6 p6                    68.72414 62     75    \n",
       "8   7 p7                    67.50000 67     68    \n",
       "9   8 p8                    64.13636 60     69    \n",
       "10  9 p9                    64.09091 57     70    \n",
       "11 10 p10                   63.53315 56     73    \n",
       "12 11 p11                   63.23810 60     68    \n",
       "13 12 p12                   61.11111 56     66    \n",
       "14 13 p13                   61.06818 56     69    \n",
       "15 14 p14                   60.67816 56     68    \n",
       "16 15 p15                   60.05814 53     71    \n",
       "17 16 p16                   59.44706 55     64    \n",
       "18 17 p17                   55.45977 49     61    "
      ]
     },
     "metadata": {},
     "output_type": "display_data"
    }
   ],
   "source": [
    "my_data"
   ]
  }
 ],
 "metadata": {
  "kernelspec": {
   "display_name": "R",
   "language": "R",
   "name": "ir"
  },
  "language_info": {
   "codemirror_mode": "r",
   "file_extension": ".r",
   "mimetype": "text/x-r-source",
   "name": "R",
   "pygments_lexer": "r",
   "version": "4.2.3"
  }
 },
 "nbformat": 4,
 "nbformat_minor": 5
}
