{
 "cells": [
  {
   "cell_type": "markdown",
   "id": "8a45b08c-6133-4b14-9c6a-352f82cca82e",
   "metadata": {
    "tags": []
   },
   "source": [
    "# Example Python guide to get started."
   ]
  },
  {
   "cell_type": "markdown",
   "id": "8d8f409f-6c63-4cc6-995c-527fddda553b",
   "metadata": {},
   "source": [
    "Getting started example. \\\n",
    "Updated - 5/9/2023 \\\n",
    "Author - Shravan Aras (shravanaras@email.arizona.edu)"
   ]
  },
  {
   "cell_type": "markdown",
   "id": "865cf5a2-17b2-431e-9cd7-e429ddcd9ad8",
   "metadata": {
    "tags": []
   },
   "source": [
    "# Introduction"
   ]
  },
  {
   "cell_type": "markdown",
   "id": "53851386-790b-4173-b439-e8e524345031",
   "metadata": {},
   "source": [
    "Import the athena helper library to access the database via sensorfabric. Your AWS credentials will already be configured for this app."
   ]
  },
  {
   "cell_type": "code",
   "execution_count": 23,
   "id": "42f76d8c-c9eb-4307-85e7-8ba652bcf2cb",
   "metadata": {
    "tags": []
   },
   "outputs": [],
   "source": [
    "from sensorfabric.athena import athena\n",
    "import pandas as pd"
   ]
  },
  {
   "cell_type": "markdown",
   "id": "1278b206-0ff0-46aa-83f2-31844d332ce8",
   "metadata": {},
   "source": [
    "Connect to the database and workgroup provided to you for this study. Replace `my-database` with the database name, and `my-workgroup` with the name of the workgroup given."
   ]
  },
  {
   "cell_type": "code",
   "execution_count": 24,
   "id": "43fdeb55-83e4-4b05-977f-bf24e34c3263",
   "metadata": {
    "tags": []
   },
   "outputs": [],
   "source": [
    "db = athena(database='my-database', workgroup='my-workgroup')"
   ]
  },
  {
   "cell_type": "markdown",
   "id": "e5a41efe-1f1d-4138-bf68-3550960bbf65",
   "metadata": {},
   "source": [
    "You can see a list of all tables by running the below query. `execQuery` accepts an SQL query and returns a pandas dataframe after execution. "
   ]
  },
  {
   "cell_type": "code",
   "execution_count": 25,
   "id": "4e5be0eb-2d46-4337-a065-d5559b52f59e",
   "metadata": {
    "tags": []
   },
   "outputs": [
    {
     "data": {
      "text/html": [
       "<div>\n",
       "<style scoped>\n",
       "    .dataframe tbody tr th:only-of-type {\n",
       "        vertical-align: middle;\n",
       "    }\n",
       "\n",
       "    .dataframe tbody tr th {\n",
       "        vertical-align: top;\n",
       "    }\n",
       "\n",
       "    .dataframe thead th {\n",
       "        text-align: right;\n",
       "    }\n",
       "</style>\n",
       "<table border=\"1\" class=\"dataframe\">\n",
       "  <thead>\n",
       "    <tr style=\"text-align: right;\">\n",
       "      <th></th>\n",
       "      <th>fitbitactivitylogs</th>\n",
       "    </tr>\n",
       "  </thead>\n",
       "  <tbody>\n",
       "    <tr>\n",
       "      <th>0</th>\n",
       "      <td>fitbitdailydata</td>\n",
       "    </tr>\n",
       "    <tr>\n",
       "      <th>1</th>\n",
       "      <td>fitbitdevices</td>\n",
       "    </tr>\n",
       "    <tr>\n",
       "      <th>2</th>\n",
       "      <td>fitbitrestingheartrates</td>\n",
       "    </tr>\n",
       "    <tr>\n",
       "      <th>3</th>\n",
       "      <td>fitbitsleeplogdetails</td>\n",
       "    </tr>\n",
       "    <tr>\n",
       "      <th>4</th>\n",
       "      <td>fitbitsleeplogs</td>\n",
       "    </tr>\n",
       "  </tbody>\n",
       "</table>\n",
       "</div>"
      ],
      "text/plain": [
       "        fitbitactivitylogs\n",
       "0          fitbitdailydata\n",
       "1            fitbitdevices\n",
       "2  fitbitrestingheartrates\n",
       "3    fitbitsleeplogdetails\n",
       "4          fitbitsleeplogs"
      ]
     },
     "metadata": {},
     "output_type": "display_data"
    }
   ],
   "source": [
    "results = db.execQuery('SHOW TABLES')\n",
    "display(results)"
   ]
  },
  {
   "cell_type": "markdown",
   "id": "d71ac634-c30f-4bf0-8bcf-465e14cc1880",
   "metadata": {
    "tags": []
   },
   "source": [
    "# Caching"
   ]
  },
  {
   "cell_type": "markdown",
   "id": "5ab45a61-1057-489b-a682-be8aa89ac16b",
   "metadata": {},
   "source": [
    "Sensorfabric supports local caching. Please note this cache will be destroyed after the container / app / analysis job has been closed.\n",
    "To enable caching you can set the parameter `offlineCache=True`"
   ]
  },
  {
   "cell_type": "code",
   "execution_count": 26,
   "id": "5305c1a1-010a-4082-92a4-2f3871c74b0c",
   "metadata": {
    "tags": []
   },
   "outputs": [],
   "source": [
    "db_with_caching = athena(database='my-database', workgroup='my-workgroup', offlineCache=True)"
   ]
  },
  {
   "cell_type": "markdown",
   "id": "870a4a29-e57c-4cf2-85f8-04980c4b0df2",
   "metadata": {},
   "source": [
    "You can chose to enable caching for individual queries by setting `cached=True`"
   ]
  },
  {
   "cell_type": "markdown",
   "id": "bcf5669a-2871-4d62-8a7b-e2d2d6196c45",
   "metadata": {
    "tags": []
   },
   "source": [
    "### Comparing between cached an uncached"
   ]
  },
  {
   "cell_type": "code",
   "execution_count": 27,
   "id": "f6056097-129a-444e-b758-772ae55b8618",
   "metadata": {
    "tags": []
   },
   "outputs": [
    {
     "name": "stdout",
     "output_type": "stream",
     "text": [
      "(3817, 65)\n",
      "CPU times: user 1.38 s, sys: 76.2 ms, total: 1.46 s\n",
      "Wall time: 3.94 s\n"
     ]
    }
   ],
   "source": [
    "%%time\n",
    "results = db_with_caching.execQuery('SELECT * FROM fitbitdailydata')\n",
    "print(results.shape)"
   ]
  },
  {
   "cell_type": "code",
   "execution_count": 28,
   "id": "6204fa6f-5c97-44f1-94a1-848bc770612b",
   "metadata": {
    "tags": []
   },
   "outputs": [
    {
     "name": "stdout",
     "output_type": "stream",
     "text": [
      "(3817, 65)\n",
      "CPU times: user 1.18 s, sys: 54.7 ms, total: 1.24 s\n",
      "Wall time: 3.71 s\n"
     ]
    }
   ],
   "source": [
    "%%time\n",
    "results = db_with_caching.execQuery('SELECT * FROM fitbitdailydata')\n",
    "print(results.shape)"
   ]
  },
  {
   "cell_type": "markdown",
   "id": "6df81188-9180-4487-9053-d9544122a9d8",
   "metadata": {},
   "source": [
    "We can see for the exact same query without caching, it takes 3-4 seconds each time it runs.\n",
    "Using cached results we get instant response as shown below in 153 ms."
   ]
  },
  {
   "cell_type": "code",
   "execution_count": 29,
   "id": "4c0a45a3-74f1-4895-a185-65b2af3ac55c",
   "metadata": {
    "tags": []
   },
   "outputs": [
    {
     "name": "stdout",
     "output_type": "stream",
     "text": [
      "(3817, 65)\n",
      "CPU times: user 41.2 ms, sys: 4.14 ms, total: 45.3 ms\n",
      "Wall time: 140 ms\n"
     ]
    }
   ],
   "source": [
    "%%time\n",
    "results = db_with_caching.execQuery('SELECT * FROM fitbitdailydata', cached=True)\n",
    "print(results.shape)"
   ]
  },
  {
   "cell_type": "markdown",
   "id": "3373ee67-c65d-4e6b-bc5a-538c3f58531a",
   "metadata": {},
   "source": [
    "# Example - Studying Fitbit resting HR values."
   ]
  },
  {
   "cell_type": "markdown",
   "id": "b0df2dac-3dea-4f15-b8cd-12fdfef6f0dc",
   "metadata": {
    "tags": []
   },
   "source": [
    "We will install plotly library for plotting. You can use this method to install any additional libraries you need. \\\n",
    "**Important** \\\n",
    "You will need to open the extensions tab on the left and install jupyterlab-plotly extension. Once enabled it will ask you if you want to rebuilt extensions and restart. Say Yes. \\\n",
    "The build might take several minutes depending on your compute. We plan to have this included in the prebuilt image by the end of summer 2023.\n",
    "Graphs may not correctly display without that."
   ]
  },
  {
   "cell_type": "code",
   "execution_count": 30,
   "id": "bdd20f97-fe38-4adc-ba47-f9f760519c72",
   "metadata": {
    "tags": []
   },
   "outputs": [
    {
     "name": "stdout",
     "output_type": "stream",
     "text": [
      "Requirement already satisfied: plotly in /opt/conda/lib/python3.10/site-packages (5.14.1)\n",
      "Requirement already satisfied: packaging in /opt/conda/lib/python3.10/site-packages (from plotly) (23.0)\n",
      "Requirement already satisfied: tenacity>=6.2.0 in /opt/conda/lib/python3.10/site-packages (from plotly) (8.2.2)\n",
      "Note: you may need to restart the kernel to use updated packages.\n"
     ]
    }
   ],
   "source": [
    "%pip install plotly"
   ]
  },
  {
   "cell_type": "code",
   "execution_count": 31,
   "id": "c78bd9df-7e06-46d9-a5db-30904db29e05",
   "metadata": {
    "tags": []
   },
   "outputs": [],
   "source": [
    "import plotly.express as px"
   ]
  },
  {
   "cell_type": "code",
   "execution_count": 32,
   "id": "a571bcbd-b8c9-440a-97c4-7aa213124ced",
   "metadata": {
    "tags": []
   },
   "outputs": [
    {
     "data": {
      "text/html": [
       "<div>\n",
       "<style scoped>\n",
       "    .dataframe tbody tr th:only-of-type {\n",
       "        vertical-align: middle;\n",
       "    }\n",
       "\n",
       "    .dataframe tbody tr th {\n",
       "        vertical-align: top;\n",
       "    }\n",
       "\n",
       "    .dataframe thead th {\n",
       "        text-align: right;\n",
       "    }\n",
       "</style>\n",
       "<table border=\"1\" class=\"dataframe\">\n",
       "  <thead>\n",
       "    <tr style=\"text-align: right;\">\n",
       "      <th></th>\n",
       "      <th>participantidentifier</th>\n",
       "    </tr>\n",
       "  </thead>\n",
       "  <tbody>\n",
       "    <tr>\n",
       "      <th>0</th>\n",
       "      <td>date</td>\n",
       "    </tr>\n",
       "    <tr>\n",
       "      <th>1</th>\n",
       "      <td>restingheartrate</td>\n",
       "    </tr>\n",
       "    <tr>\n",
       "      <th>2</th>\n",
       "      <td>_provenance</td>\n",
       "    </tr>\n",
       "  </tbody>\n",
       "</table>\n",
       "</div>"
      ],
      "text/plain": [
       "  participantidentifier\n",
       "0  date                \n",
       "1  restingheartrate    \n",
       "2  _provenance         "
      ]
     },
     "metadata": {},
     "output_type": "display_data"
    }
   ],
   "source": [
    "# Let us see how the resting HR table looks like.\n",
    "db = db_with_caching # we want to enable caching for queries if needed.\n",
    "\n",
    "results = db.execQuery('SHOW COLUMNS FROM fitbitrestingheartrates')\n",
    "display(results)"
   ]
  },
  {
   "cell_type": "markdown",
   "id": "4995744c-bf71-44d1-a2cd-d65abf60ca4a",
   "metadata": {},
   "source": [
    "Let's look at a quick summary of resting HR for participants."
   ]
  },
  {
   "cell_type": "code",
   "execution_count": 33,
   "id": "cfd21a20-afac-47c7-88e0-5fb40a23b4ff",
   "metadata": {
    "tags": []
   },
   "outputs": [
    {
     "data": {
      "text/html": [
       "<div>\n",
       "<style scoped>\n",
       "    .dataframe tbody tr th:only-of-type {\n",
       "        vertical-align: middle;\n",
       "    }\n",
       "\n",
       "    .dataframe tbody tr th {\n",
       "        vertical-align: top;\n",
       "    }\n",
       "\n",
       "    .dataframe thead th {\n",
       "        text-align: right;\n",
       "    }\n",
       "</style>\n",
       "<table border=\"1\" class=\"dataframe\">\n",
       "  <thead>\n",
       "    <tr style=\"text-align: right;\">\n",
       "      <th></th>\n",
       "      <th>participantidentifier</th>\n",
       "      <th>avg_hr</th>\n",
       "      <th>min_hr</th>\n",
       "      <th>max_hr</th>\n",
       "    </tr>\n",
       "  </thead>\n",
       "  <tbody>\n",
       "    <tr>\n",
       "      <th>0</th>\n",
       "      <td>p0</td>\n",
       "      <td>83.825581</td>\n",
       "      <td>76.0</td>\n",
       "      <td>90.0</td>\n",
       "    </tr>\n",
       "    <tr>\n",
       "      <th>1</th>\n",
       "      <td>p1</td>\n",
       "      <td>83.034483</td>\n",
       "      <td>80.0</td>\n",
       "      <td>86.0</td>\n",
       "    </tr>\n",
       "    <tr>\n",
       "      <th>2</th>\n",
       "      <td>p2</td>\n",
       "      <td>74.898455</td>\n",
       "      <td>67.0</td>\n",
       "      <td>83.0</td>\n",
       "    </tr>\n",
       "    <tr>\n",
       "      <th>3</th>\n",
       "      <td>p3</td>\n",
       "      <td>74.283784</td>\n",
       "      <td>68.0</td>\n",
       "      <td>82.0</td>\n",
       "    </tr>\n",
       "    <tr>\n",
       "      <th>4</th>\n",
       "      <td>p4</td>\n",
       "      <td>70.885714</td>\n",
       "      <td>65.0</td>\n",
       "      <td>76.0</td>\n",
       "    </tr>\n",
       "    <tr>\n",
       "      <th>5</th>\n",
       "      <td>p5</td>\n",
       "      <td>69.027778</td>\n",
       "      <td>60.0</td>\n",
       "      <td>76.0</td>\n",
       "    </tr>\n",
       "    <tr>\n",
       "      <th>6</th>\n",
       "      <td>p6</td>\n",
       "      <td>68.724138</td>\n",
       "      <td>62.0</td>\n",
       "      <td>75.0</td>\n",
       "    </tr>\n",
       "    <tr>\n",
       "      <th>7</th>\n",
       "      <td>p7</td>\n",
       "      <td>67.500000</td>\n",
       "      <td>67.0</td>\n",
       "      <td>68.0</td>\n",
       "    </tr>\n",
       "    <tr>\n",
       "      <th>8</th>\n",
       "      <td>p8</td>\n",
       "      <td>64.136364</td>\n",
       "      <td>60.0</td>\n",
       "      <td>69.0</td>\n",
       "    </tr>\n",
       "    <tr>\n",
       "      <th>9</th>\n",
       "      <td>p9</td>\n",
       "      <td>64.090909</td>\n",
       "      <td>57.0</td>\n",
       "      <td>70.0</td>\n",
       "    </tr>\n",
       "    <tr>\n",
       "      <th>10</th>\n",
       "      <td>p10</td>\n",
       "      <td>63.533149</td>\n",
       "      <td>56.0</td>\n",
       "      <td>73.0</td>\n",
       "    </tr>\n",
       "    <tr>\n",
       "      <th>11</th>\n",
       "      <td>p11</td>\n",
       "      <td>63.238095</td>\n",
       "      <td>60.0</td>\n",
       "      <td>68.0</td>\n",
       "    </tr>\n",
       "    <tr>\n",
       "      <th>12</th>\n",
       "      <td>p12</td>\n",
       "      <td>61.111111</td>\n",
       "      <td>56.0</td>\n",
       "      <td>66.0</td>\n",
       "    </tr>\n",
       "    <tr>\n",
       "      <th>13</th>\n",
       "      <td>p13</td>\n",
       "      <td>61.068182</td>\n",
       "      <td>56.0</td>\n",
       "      <td>69.0</td>\n",
       "    </tr>\n",
       "    <tr>\n",
       "      <th>14</th>\n",
       "      <td>p14</td>\n",
       "      <td>60.678161</td>\n",
       "      <td>56.0</td>\n",
       "      <td>68.0</td>\n",
       "    </tr>\n",
       "    <tr>\n",
       "      <th>15</th>\n",
       "      <td>p15</td>\n",
       "      <td>60.058140</td>\n",
       "      <td>53.0</td>\n",
       "      <td>71.0</td>\n",
       "    </tr>\n",
       "    <tr>\n",
       "      <th>16</th>\n",
       "      <td>p16</td>\n",
       "      <td>59.447059</td>\n",
       "      <td>55.0</td>\n",
       "      <td>64.0</td>\n",
       "    </tr>\n",
       "    <tr>\n",
       "      <th>17</th>\n",
       "      <td>p17</td>\n",
       "      <td>55.459770</td>\n",
       "      <td>49.0</td>\n",
       "      <td>61.0</td>\n",
       "    </tr>\n",
       "  </tbody>\n",
       "</table>\n",
       "</div>"
      ],
      "text/plain": [
       "   participantidentifier     avg_hr  min_hr  max_hr\n",
       "0                     p0  83.825581    76.0    90.0\n",
       "1                     p1  83.034483    80.0    86.0\n",
       "2                     p2  74.898455    67.0    83.0\n",
       "3                     p3  74.283784    68.0    82.0\n",
       "4                     p4  70.885714    65.0    76.0\n",
       "5                     p5  69.027778    60.0    76.0\n",
       "6                     p6  68.724138    62.0    75.0\n",
       "7                     p7  67.500000    67.0    68.0\n",
       "8                     p8  64.136364    60.0    69.0\n",
       "9                     p9  64.090909    57.0    70.0\n",
       "10                   p10  63.533149    56.0    73.0\n",
       "11                   p11  63.238095    60.0    68.0\n",
       "12                   p12  61.111111    56.0    66.0\n",
       "13                   p13  61.068182    56.0    69.0\n",
       "14                   p14  60.678161    56.0    68.0\n",
       "15                   p15  60.058140    53.0    71.0\n",
       "16                   p16  59.447059    55.0    64.0\n",
       "17                   p17  55.459770    49.0    61.0"
      ]
     },
     "metadata": {},
     "output_type": "display_data"
    }
   ],
   "source": [
    "query = \"\"\"\n",
    "    SELECT participantidentifier, \n",
    "        AVG(restingheartrate) avg_hr, \n",
    "        MIN(restingheartrate) min_hr,\n",
    "        MAX(restingheartrate) max_hr\n",
    "            FROM fitbitrestingheartrates\n",
    "            GROUP BY participantidentifier\n",
    "            ORDER BY avg_hr DESC\n",
    "\"\"\"\n",
    "results_summary = db.execQuery(query, cached=True)\n",
    "# For this demo output we are hiding / dropping the participantidentifiers and instead replacing them with a sequence of numbers.\n",
    "results_summary['participantidentifier'] = ['p{}'.format(n) for n in range(0, results_summary.shape[0])]\n",
    "display(results_summary)"
   ]
  },
  {
   "cell_type": "markdown",
   "id": "948b1f8f-f902-491d-8990-960e326e6304",
   "metadata": {},
   "source": [
    "Let us see how the distribution of resting HR looks like."
   ]
  },
  {
   "cell_type": "code",
   "execution_count": 34,
   "id": "643923a3-cb81-43b7-93e4-61d4bcbd695f",
   "metadata": {
    "tags": []
   },
   "outputs": [],
   "source": [
    "results = db.execQuery('SELECT restingheartrate FROM fitbitrestingheartrates WHERE restingheartrate IS NOT NULL', cached=True)"
   ]
  },
  {
   "cell_type": "code",
   "execution_count": 35,
   "id": "dc06b884-87c2-427c-a3ff-d33de593f7ff",
   "metadata": {
    "tags": []
   },
   "outputs": [
    {
     "data": {
      "application/vnd.plotly.v1+json": {
       "config": {
        "plotlyServerURL": "https://plot.ly"
       },
       "data": [
        {
         "alignmentgroup": "True",
         "bingroup": "x",
         "hovertemplate": "restingheartrate=%{x}<br>count=%{y}<extra></extra>",
         "legendgroup": "",
         "marker": {
          "color": "#636efa",
          "pattern": {
           "shape": ""
          }
         },
         "name": "",
         "offsetgroup": "",
         "orientation": "v",
         "showlegend": false,
         "type": "histogram",
         "x": [
          71,
          69,
          69,
          67,
          67,
          67,
          67,
          66,
          68,
          60,
          62,
          61,
          60,
          59,
          60,
          60,
          59,
          62,
          62,
          63,
          63,
          63,
          62,
          61,
          74,
          74,
          70,
          70,
          70,
          63,
          60,
          58,
          57,
          56,
          57,
          57,
          58,
          57,
          80,
          80,
          80,
          81,
          81,
          80,
          83,
          73,
          72,
          73,
          72,
          74,
          76,
          78,
          78,
          80,
          63,
          64,
          65,
          67,
          67,
          67,
          69,
          68,
          69,
          60,
          61,
          63,
          61,
          60,
          61,
          61,
          58,
          56,
          60,
          60,
          57,
          56,
          56,
          58,
          58,
          57,
          56,
          53,
          53,
          51,
          51,
          50,
          50,
          50,
          51,
          49,
          61,
          61,
          62,
          63,
          63,
          63,
          62,
          62,
          61,
          61,
          69,
          65,
          66,
          69,
          65,
          65,
          64,
          64,
          75,
          60,
          77,
          60,
          76,
          62,
          79,
          60,
          82,
          59,
          80,
          60,
          81,
          60,
          78,
          60,
          76,
          62,
          76,
          64,
          74,
          63,
          75,
          63,
          73,
          60,
          78,
          61,
          61,
          67,
          67,
          69,
          68,
          68,
          66,
          66,
          67,
          68,
          64,
          63,
          61,
          60,
          61,
          60,
          62,
          64,
          66,
          66,
          69,
          69,
          69,
          71,
          72,
          71,
          69,
          69,
          69,
          66,
          69,
          69,
          67,
          68,
          68,
          70,
          69,
          71,
          73,
          73,
          72,
          72,
          72,
          72,
          73,
          75,
          74,
          76,
          75,
          73,
          71,
          71,
          70,
          71,
          71,
          71,
          72,
          72,
          72,
          71,
          68,
          69,
          68,
          72,
          56,
          57,
          57,
          54,
          54,
          57,
          54,
          53,
          52,
          52,
          52,
          56,
          57,
          56,
          54,
          54,
          54,
          53,
          54,
          55,
          56,
          58,
          60,
          60,
          59,
          59,
          59,
          58,
          59,
          61,
          61,
          58,
          57,
          57,
          57,
          58,
          58,
          55,
          56,
          56,
          56,
          55,
          56,
          56,
          55,
          56,
          55,
          56,
          56,
          57,
          57,
          58,
          58,
          58,
          53,
          50,
          56,
          61,
          64,
          64,
          65,
          61,
          64,
          66,
          67,
          66,
          64,
          64,
          65,
          65,
          67,
          68,
          65,
          65,
          65,
          65,
          65,
          67,
          68,
          67,
          67,
          66,
          65,
          66,
          66,
          65,
          65,
          68,
          69,
          69,
          68,
          65,
          64,
          61,
          62,
          62,
          62,
          62,
          63,
          64,
          63,
          63,
          62,
          63,
          64,
          63,
          64,
          62,
          62,
          63,
          63,
          63,
          63,
          63,
          65,
          66,
          68,
          67,
          67,
          66,
          63,
          67,
          72,
          60,
          60,
          60,
          62,
          59,
          60,
          61,
          61,
          62,
          59,
          59,
          60,
          62,
          65,
          65,
          69,
          69,
          64,
          62,
          64,
          62,
          60,
          58,
          57,
          57,
          59,
          61,
          61,
          61,
          62,
          64,
          70,
          67,
          69,
          71,
          73,
          71,
          72,
          69,
          66,
          81,
          59,
          59,
          60,
          58,
          59,
          59,
          58,
          60,
          59,
          59,
          58,
          57,
          59,
          57,
          58,
          65,
          63,
          72,
          76,
          73,
          73,
          73,
          73,
          73,
          75,
          78,
          76,
          76,
          78,
          78,
          77,
          79,
          79,
          79,
          79,
          82,
          82,
          80,
          81,
          79,
          77,
          75,
          74,
          76,
          74,
          73,
          71,
          71,
          70,
          68,
          69,
          71,
          72,
          74,
          76,
          75,
          78,
          78,
          78,
          58,
          55,
          56,
          57,
          58,
          58,
          58,
          57,
          59,
          61,
          60,
          59,
          57,
          57,
          58,
          58,
          59,
          59,
          72,
          65,
          71,
          63,
          81,
          73,
          60,
          60,
          61,
          57,
          56,
          62,
          58,
          57,
          59,
          61,
          60,
          64,
          60,
          61,
          63,
          64,
          66,
          66,
          65,
          61,
          74,
          61,
          64,
          62,
          63,
          64,
          58,
          59,
          63,
          59,
          58,
          58,
          59,
          58,
          66,
          64,
          64,
          72,
          71,
          70,
          71,
          71,
          73,
          68,
          70,
          69,
          71,
          71,
          70,
          69,
          69,
          81,
          71,
          70,
          70,
          69,
          72,
          73,
          73,
          71,
          78,
          80,
          69,
          83,
          83,
          83,
          77,
          81,
          81,
          81,
          81,
          79,
          79,
          79,
          78,
          77,
          77,
          82,
          70,
          69,
          61,
          80,
          79,
          61,
          58,
          72,
          61,
          57,
          68,
          65,
          72,
          64,
          57,
          59,
          54,
          70,
          62,
          66,
          82,
          62,
          76,
          72,
          62,
          57,
          58,
          55,
          73,
          60,
          74,
          66,
          78,
          79,
          63,
          77,
          73,
          63,
          58,
          58,
          56,
          72,
          73,
          61,
          73,
          73,
          56,
          67,
          65,
          79,
          74,
          63,
          59,
          57,
          55,
          62,
          56,
          68,
          66,
          80,
          74,
          63,
          59,
          58,
          57,
          72,
          64,
          64,
          65,
          68,
          66,
          66,
          70,
          71,
          71,
          70,
          70,
          71,
          71,
          71,
          71,
          76,
          75,
          75,
          74,
          72,
          71,
          72,
          63,
          71,
          59,
          78,
          72,
          67,
          58,
          64,
          52,
          68,
          64,
          72,
          75,
          74,
          75,
          74,
          74,
          73,
          73,
          73,
          73,
          73,
          73,
          72,
          73,
          71,
          69,
          67,
          66,
          67,
          69,
          73,
          74,
          64,
          60,
          60,
          61,
          61,
          61,
          61,
          62,
          62,
          61,
          60,
          59,
          59,
          58,
          57,
          58,
          57,
          57,
          57,
          56,
          57,
          58,
          59,
          59,
          59,
          59,
          59,
          60,
          60,
          60,
          60,
          60,
          60,
          59,
          60,
          59,
          60,
          59,
          60,
          59,
          59,
          59,
          58,
          58,
          57,
          57,
          56,
          56,
          55,
          56,
          56,
          56,
          59,
          61,
          62,
          64,
          66,
          65,
          68,
          67,
          69,
          68,
          67,
          67,
          67,
          66,
          66,
          66,
          66,
          66,
          64,
          62,
          60,
          60,
          60,
          60,
          62,
          62,
          60,
          61,
          60,
          60,
          61,
          63,
          61,
          59,
          59,
          60,
          61,
          62,
          63,
          62,
          60,
          62,
          63,
          63,
          62,
          61,
          59,
          61,
          61,
          62,
          64,
          64,
          63,
          62,
          61,
          59,
          59,
          59,
          60,
          62,
          64,
          64,
          62,
          61,
          63,
          64,
          64,
          63,
          62,
          62,
          63,
          62,
          64,
          63,
          65,
          67,
          66,
          65,
          64,
          71,
          62,
          62,
          69,
          61,
          82,
          79,
          62,
          58,
          63,
          57,
          65,
          61,
          62,
          64,
          67,
          71,
          69,
          66,
          63,
          60,
          58,
          56,
          57,
          56,
          57,
          58,
          56,
          53,
          54,
          55,
          56,
          57,
          58,
          57,
          59,
          60,
          61,
          63,
          64,
          62,
          63,
          66,
          80,
          81,
          81,
          84,
          85,
          86,
          88,
          86,
          88,
          86,
          88,
          89,
          89,
          88,
          89,
          89,
          88,
          86,
          87,
          86,
          87,
          89,
          89,
          89,
          88,
          90,
          88,
          88,
          87,
          87,
          89,
          89,
          87,
          89,
          89,
          88,
          88,
          86,
          87,
          86,
          86,
          87,
          87,
          86,
          86,
          85,
          84,
          84,
          83,
          82,
          80,
          68,
          67,
          86,
          86,
          84,
          82,
          80,
          82,
          84,
          85,
          85,
          86,
          84,
          84,
          82,
          82,
          83,
          81,
          82,
          83,
          82,
          83,
          82,
          84,
          84,
          83,
          83,
          82,
          81,
          82,
          81,
          70,
          71,
          73,
          71,
          70,
          71,
          73,
          71,
          71,
          70,
          71,
          73,
          73,
          74,
          77,
          78,
          81,
          79,
          77,
          77,
          77,
          75,
          74,
          74,
          75,
          74,
          74,
          74,
          74,
          75,
          74,
          74,
          74,
          75,
          76,
          76,
          75,
          76,
          78,
          80,
          79,
          78,
          77,
          77,
          77,
          75,
          74,
          75,
          73,
          72,
          70,
          68,
          69,
          71,
          74,
          74,
          74,
          73,
          74,
          73,
          72,
          73,
          74,
          73,
          71,
          72,
          72,
          73,
          72,
          71,
          70,
          69,
          69,
          71,
          69,
          68,
          67,
          68,
          68,
          70,
          70,
          69,
          69,
          69,
          70,
          69,
          71,
          73,
          72,
          74,
          74,
          75,
          75,
          74,
          75,
          73,
          72,
          72,
          72,
          71,
          72,
          72,
          71,
          73,
          72,
          72,
          74,
          75,
          73,
          72,
          74,
          75,
          76,
          76,
          75,
          75,
          76,
          76,
          77,
          76,
          77,
          75,
          72,
          72,
          71,
          71,
          70,
          72,
          72,
          72,
          73,
          72,
          74,
          73,
          73,
          71,
          73,
          75,
          76,
          75,
          77,
          76,
          76,
          75,
          76,
          74,
          72,
          71,
          72,
          73,
          73,
          73,
          73,
          72,
          74,
          74,
          75,
          77,
          76,
          77,
          77,
          77,
          79,
          79,
          80,
          80,
          80,
          79,
          77,
          77,
          76,
          74,
          73,
          70,
          69,
          69,
          71,
          72,
          73,
          74,
          76,
          75,
          75,
          76,
          76,
          77,
          78,
          79,
          82,
          82,
          83,
          82,
          80,
          78,
          75,
          74,
          75,
          74,
          73,
          73,
          72,
          71,
          70,
          71,
          73,
          74,
          74,
          73,
          71,
          72,
          71,
          72,
          73,
          74,
          77,
          78,
          78,
          77,
          78,
          79,
          79,
          81,
          82,
          81,
          81,
          78,
          77,
          75,
          76,
          74,
          74,
          74,
          74,
          75,
          76,
          74,
          75,
          77,
          77,
          78,
          79,
          80,
          81,
          81,
          82,
          80,
          78,
          75,
          74,
          73,
          74,
          72,
          72,
          72,
          73,
          73,
          72,
          73,
          73,
          72,
          74,
          71,
          74,
          75,
          75,
          75,
          74,
          75,
          75,
          75,
          77,
          75,
          75,
          72,
          73,
          72,
          71,
          73,
          72,
          72,
          72,
          73,
          73,
          74,
          77,
          78,
          79,
          79,
          78,
          78,
          79,
          78,
          78,
          80,
          81,
          82,
          80,
          79,
          77,
          75,
          74,
          73,
          71,
          73,
          74,
          76,
          76,
          77,
          76,
          77,
          76,
          76,
          78,
          78,
          78,
          78,
          79,
          77,
          77,
          78,
          77,
          76,
          77,
          77,
          75,
          75,
          74,
          75,
          76,
          75,
          74,
          76,
          75,
          76,
          75,
          74,
          74,
          76,
          77,
          77,
          79,
          78,
          76,
          76,
          74,
          72,
          72,
          71,
          71,
          73,
          74,
          74,
          75,
          74,
          73,
          75,
          78,
          78,
          76,
          75,
          75,
          76,
          77,
          80,
          80,
          78,
          80,
          82,
          81,
          78,
          78,
          76,
          76,
          76,
          77,
          78,
          76,
          75,
          75,
          74,
          74,
          74,
          75,
          77,
          77,
          79,
          79,
          78,
          77,
          77,
          77,
          75,
          58,
          65,
          66,
          65,
          64,
          63,
          62,
          62,
          63,
          62,
          52,
          67,
          63,
          62,
          70,
          74,
          62,
          77,
          72,
          67,
          58,
          61,
          52,
          66,
          63,
          77,
          76,
          76,
          76,
          75,
          74,
          75,
          76,
          77,
          75,
          77,
          76,
          76,
          78,
          77,
          77,
          77,
          76,
          75,
          75,
          74,
          74,
          75,
          75,
          56,
          60,
          60,
          64,
          62,
          60,
          58,
          56,
          58,
          58,
          60,
          62,
          62,
          65,
          66,
          65,
          64,
          64,
          67,
          65,
          65,
          66,
          66,
          66,
          66,
          68,
          70,
          70,
          70,
          68,
          66,
          65,
          64,
          63,
          62,
          62,
          61,
          61,
          62,
          64,
          66,
          67,
          67,
          67,
          65,
          65,
          65,
          66,
          67,
          67,
          66,
          65,
          65,
          64,
          63,
          63,
          62,
          62,
          61,
          61,
          61,
          61,
          61,
          61,
          61,
          61,
          64,
          62,
          62,
          59,
          61,
          59,
          60,
          62,
          63,
          63,
          63,
          61,
          60,
          61,
          61,
          60,
          62,
          62,
          62,
          61,
          60,
          59,
          59,
          60,
          61,
          61,
          61,
          61,
          63,
          65,
          66,
          68,
          67,
          65,
          63,
          63,
          62,
          63,
          65,
          66,
          65,
          63,
          62,
          62,
          61,
          61,
          62,
          62,
          61,
          60,
          61,
          62,
          60,
          59,
          68,
          69,
          71,
          74,
          74,
          75,
          75,
          73,
          73,
          72,
          72,
          75,
          72,
          71,
          69,
          68,
          68,
          69,
          68,
          69,
          70,
          71,
          70,
          70,
          69,
          69,
          70,
          72,
          71,
          69,
          71,
          70,
          70,
          69,
          69,
          69,
          69,
          68,
          65,
          66,
          65,
          69,
          63,
          60,
          58,
          59,
          61,
          62,
          60,
          58,
          60,
          62,
          63,
          62,
          64,
          65,
          66,
          64,
          63,
          61,
          62,
          63,
          65,
          63,
          61,
          61,
          60,
          61,
          62,
          64,
          67,
          67,
          64,
          62,
          60,
          59,
          61,
          62,
          60,
          60,
          60,
          62,
          62,
          61,
          63,
          64,
          63,
          63,
          62,
          60,
          58,
          57,
          59,
          56,
          57,
          58,
          58,
          57,
          57,
          68,
          68,
          66,
          65,
          63,
          61,
          61,
          63,
          63,
          63,
          63,
          63,
          64,
          63,
          61,
          62,
          64,
          64,
          64,
          66,
          66,
          66,
          65,
          68,
          66,
          65,
          65,
          65,
          68,
          68,
          67,
          67,
          66,
          65,
          65,
          66,
          65,
          65,
          64,
          64,
          62,
          61,
          61,
          61,
          64,
          61,
          61,
          61,
          62,
          61,
          61,
          61,
          63,
          63,
          62,
          62,
          63,
          62,
          64,
          66,
          65,
          65,
          67,
          66,
          63,
          63,
          65,
          63,
          64,
          63,
          65,
          62,
          61,
          61,
          60,
          62,
          62,
          60,
          61,
          61,
          62,
          62,
          62,
          63,
          63,
          63,
          60,
          59,
          60,
          57,
          59,
          58,
          59,
          60,
          61,
          61,
          61,
          63,
          65,
          63,
          63,
          61,
          61,
          64,
          64,
          63,
          61,
          62,
          61,
          61,
          61,
          63,
          62,
          61,
          61,
          61,
          59,
          59,
          60,
          62,
          65,
          67,
          67,
          67,
          66,
          67,
          67,
          67,
          67,
          64,
          64,
          62,
          61,
          63,
          61,
          60,
          61,
          61,
          61,
          59,
          59,
          61,
          62,
          63,
          62,
          63,
          66,
          66,
          66,
          66,
          64,
          64,
          66,
          67,
          67,
          65,
          67,
          68,
          71,
          68,
          68,
          65,
          64,
          64,
          64,
          64,
          64,
          64,
          64,
          63,
          63,
          66,
          66,
          67,
          66,
          66,
          66,
          65,
          63,
          63,
          66,
          65,
          65,
          65,
          65,
          63,
          63,
          66,
          65,
          65,
          67,
          63,
          63,
          62,
          62,
          62,
          62,
          63,
          63,
          61,
          61,
          63,
          63,
          64,
          64,
          66,
          64,
          64,
          65,
          66,
          67,
          68,
          68,
          68,
          67,
          66,
          66,
          64,
          64,
          63,
          60,
          60,
          58,
          58,
          60,
          60,
          61,
          61,
          61,
          62,
          63,
          63,
          65,
          65,
          66,
          68,
          68,
          68,
          61,
          65,
          66,
          66,
          63,
          63,
          62,
          62,
          61,
          60,
          63,
          63,
          64,
          63,
          63,
          63,
          62,
          62,
          70,
          69,
          69,
          60,
          61,
          70,
          75,
          64,
          79,
          73,
          68,
          61,
          51,
          66,
          64,
          62,
          70,
          71,
          60,
          78,
          71,
          67,
          73,
          59,
          60,
          81,
          70,
          60,
          60,
          59,
          60,
          63,
          63,
          72,
          53,
          60
         ],
         "xaxis": "x",
         "yaxis": "y"
        }
       ],
       "layout": {
        "autosize": true,
        "barmode": "relative",
        "legend": {
         "tracegroupgap": 0
        },
        "margin": {
         "t": 60
        },
        "template": {
         "data": {
          "bar": [
           {
            "error_x": {
             "color": "#2a3f5f"
            },
            "error_y": {
             "color": "#2a3f5f"
            },
            "marker": {
             "line": {
              "color": "#E5ECF6",
              "width": 0.5
             },
             "pattern": {
              "fillmode": "overlay",
              "size": 10,
              "solidity": 0.2
             }
            },
            "type": "bar"
           }
          ],
          "barpolar": [
           {
            "marker": {
             "line": {
              "color": "#E5ECF6",
              "width": 0.5
             },
             "pattern": {
              "fillmode": "overlay",
              "size": 10,
              "solidity": 0.2
             }
            },
            "type": "barpolar"
           }
          ],
          "carpet": [
           {
            "aaxis": {
             "endlinecolor": "#2a3f5f",
             "gridcolor": "white",
             "linecolor": "white",
             "minorgridcolor": "white",
             "startlinecolor": "#2a3f5f"
            },
            "baxis": {
             "endlinecolor": "#2a3f5f",
             "gridcolor": "white",
             "linecolor": "white",
             "minorgridcolor": "white",
             "startlinecolor": "#2a3f5f"
            },
            "type": "carpet"
           }
          ],
          "choropleth": [
           {
            "colorbar": {
             "outlinewidth": 0,
             "ticks": ""
            },
            "type": "choropleth"
           }
          ],
          "contour": [
           {
            "colorbar": {
             "outlinewidth": 0,
             "ticks": ""
            },
            "colorscale": [
             [
              0,
              "#0d0887"
             ],
             [
              0.1111111111111111,
              "#46039f"
             ],
             [
              0.2222222222222222,
              "#7201a8"
             ],
             [
              0.3333333333333333,
              "#9c179e"
             ],
             [
              0.4444444444444444,
              "#bd3786"
             ],
             [
              0.5555555555555556,
              "#d8576b"
             ],
             [
              0.6666666666666666,
              "#ed7953"
             ],
             [
              0.7777777777777778,
              "#fb9f3a"
             ],
             [
              0.8888888888888888,
              "#fdca26"
             ],
             [
              1,
              "#f0f921"
             ]
            ],
            "type": "contour"
           }
          ],
          "contourcarpet": [
           {
            "colorbar": {
             "outlinewidth": 0,
             "ticks": ""
            },
            "type": "contourcarpet"
           }
          ],
          "heatmap": [
           {
            "colorbar": {
             "outlinewidth": 0,
             "ticks": ""
            },
            "colorscale": [
             [
              0,
              "#0d0887"
             ],
             [
              0.1111111111111111,
              "#46039f"
             ],
             [
              0.2222222222222222,
              "#7201a8"
             ],
             [
              0.3333333333333333,
              "#9c179e"
             ],
             [
              0.4444444444444444,
              "#bd3786"
             ],
             [
              0.5555555555555556,
              "#d8576b"
             ],
             [
              0.6666666666666666,
              "#ed7953"
             ],
             [
              0.7777777777777778,
              "#fb9f3a"
             ],
             [
              0.8888888888888888,
              "#fdca26"
             ],
             [
              1,
              "#f0f921"
             ]
            ],
            "type": "heatmap"
           }
          ],
          "heatmapgl": [
           {
            "colorbar": {
             "outlinewidth": 0,
             "ticks": ""
            },
            "colorscale": [
             [
              0,
              "#0d0887"
             ],
             [
              0.1111111111111111,
              "#46039f"
             ],
             [
              0.2222222222222222,
              "#7201a8"
             ],
             [
              0.3333333333333333,
              "#9c179e"
             ],
             [
              0.4444444444444444,
              "#bd3786"
             ],
             [
              0.5555555555555556,
              "#d8576b"
             ],
             [
              0.6666666666666666,
              "#ed7953"
             ],
             [
              0.7777777777777778,
              "#fb9f3a"
             ],
             [
              0.8888888888888888,
              "#fdca26"
             ],
             [
              1,
              "#f0f921"
             ]
            ],
            "type": "heatmapgl"
           }
          ],
          "histogram": [
           {
            "marker": {
             "pattern": {
              "fillmode": "overlay",
              "size": 10,
              "solidity": 0.2
             }
            },
            "type": "histogram"
           }
          ],
          "histogram2d": [
           {
            "colorbar": {
             "outlinewidth": 0,
             "ticks": ""
            },
            "colorscale": [
             [
              0,
              "#0d0887"
             ],
             [
              0.1111111111111111,
              "#46039f"
             ],
             [
              0.2222222222222222,
              "#7201a8"
             ],
             [
              0.3333333333333333,
              "#9c179e"
             ],
             [
              0.4444444444444444,
              "#bd3786"
             ],
             [
              0.5555555555555556,
              "#d8576b"
             ],
             [
              0.6666666666666666,
              "#ed7953"
             ],
             [
              0.7777777777777778,
              "#fb9f3a"
             ],
             [
              0.8888888888888888,
              "#fdca26"
             ],
             [
              1,
              "#f0f921"
             ]
            ],
            "type": "histogram2d"
           }
          ],
          "histogram2dcontour": [
           {
            "colorbar": {
             "outlinewidth": 0,
             "ticks": ""
            },
            "colorscale": [
             [
              0,
              "#0d0887"
             ],
             [
              0.1111111111111111,
              "#46039f"
             ],
             [
              0.2222222222222222,
              "#7201a8"
             ],
             [
              0.3333333333333333,
              "#9c179e"
             ],
             [
              0.4444444444444444,
              "#bd3786"
             ],
             [
              0.5555555555555556,
              "#d8576b"
             ],
             [
              0.6666666666666666,
              "#ed7953"
             ],
             [
              0.7777777777777778,
              "#fb9f3a"
             ],
             [
              0.8888888888888888,
              "#fdca26"
             ],
             [
              1,
              "#f0f921"
             ]
            ],
            "type": "histogram2dcontour"
           }
          ],
          "mesh3d": [
           {
            "colorbar": {
             "outlinewidth": 0,
             "ticks": ""
            },
            "type": "mesh3d"
           }
          ],
          "parcoords": [
           {
            "line": {
             "colorbar": {
              "outlinewidth": 0,
              "ticks": ""
             }
            },
            "type": "parcoords"
           }
          ],
          "pie": [
           {
            "automargin": true,
            "type": "pie"
           }
          ],
          "scatter": [
           {
            "fillpattern": {
             "fillmode": "overlay",
             "size": 10,
             "solidity": 0.2
            },
            "type": "scatter"
           }
          ],
          "scatter3d": [
           {
            "line": {
             "colorbar": {
              "outlinewidth": 0,
              "ticks": ""
             }
            },
            "marker": {
             "colorbar": {
              "outlinewidth": 0,
              "ticks": ""
             }
            },
            "type": "scatter3d"
           }
          ],
          "scattercarpet": [
           {
            "marker": {
             "colorbar": {
              "outlinewidth": 0,
              "ticks": ""
             }
            },
            "type": "scattercarpet"
           }
          ],
          "scattergeo": [
           {
            "marker": {
             "colorbar": {
              "outlinewidth": 0,
              "ticks": ""
             }
            },
            "type": "scattergeo"
           }
          ],
          "scattergl": [
           {
            "marker": {
             "colorbar": {
              "outlinewidth": 0,
              "ticks": ""
             }
            },
            "type": "scattergl"
           }
          ],
          "scattermapbox": [
           {
            "marker": {
             "colorbar": {
              "outlinewidth": 0,
              "ticks": ""
             }
            },
            "type": "scattermapbox"
           }
          ],
          "scatterpolar": [
           {
            "marker": {
             "colorbar": {
              "outlinewidth": 0,
              "ticks": ""
             }
            },
            "type": "scatterpolar"
           }
          ],
          "scatterpolargl": [
           {
            "marker": {
             "colorbar": {
              "outlinewidth": 0,
              "ticks": ""
             }
            },
            "type": "scatterpolargl"
           }
          ],
          "scatterternary": [
           {
            "marker": {
             "colorbar": {
              "outlinewidth": 0,
              "ticks": ""
             }
            },
            "type": "scatterternary"
           }
          ],
          "surface": [
           {
            "colorbar": {
             "outlinewidth": 0,
             "ticks": ""
            },
            "colorscale": [
             [
              0,
              "#0d0887"
             ],
             [
              0.1111111111111111,
              "#46039f"
             ],
             [
              0.2222222222222222,
              "#7201a8"
             ],
             [
              0.3333333333333333,
              "#9c179e"
             ],
             [
              0.4444444444444444,
              "#bd3786"
             ],
             [
              0.5555555555555556,
              "#d8576b"
             ],
             [
              0.6666666666666666,
              "#ed7953"
             ],
             [
              0.7777777777777778,
              "#fb9f3a"
             ],
             [
              0.8888888888888888,
              "#fdca26"
             ],
             [
              1,
              "#f0f921"
             ]
            ],
            "type": "surface"
           }
          ],
          "table": [
           {
            "cells": {
             "fill": {
              "color": "#EBF0F8"
             },
             "line": {
              "color": "white"
             }
            },
            "header": {
             "fill": {
              "color": "#C8D4E3"
             },
             "line": {
              "color": "white"
             }
            },
            "type": "table"
           }
          ]
         },
         "layout": {
          "annotationdefaults": {
           "arrowcolor": "#2a3f5f",
           "arrowhead": 0,
           "arrowwidth": 1
          },
          "autotypenumbers": "strict",
          "coloraxis": {
           "colorbar": {
            "outlinewidth": 0,
            "ticks": ""
           }
          },
          "colorscale": {
           "diverging": [
            [
             0,
             "#8e0152"
            ],
            [
             0.1,
             "#c51b7d"
            ],
            [
             0.2,
             "#de77ae"
            ],
            [
             0.3,
             "#f1b6da"
            ],
            [
             0.4,
             "#fde0ef"
            ],
            [
             0.5,
             "#f7f7f7"
            ],
            [
             0.6,
             "#e6f5d0"
            ],
            [
             0.7,
             "#b8e186"
            ],
            [
             0.8,
             "#7fbc41"
            ],
            [
             0.9,
             "#4d9221"
            ],
            [
             1,
             "#276419"
            ]
           ],
           "sequential": [
            [
             0,
             "#0d0887"
            ],
            [
             0.1111111111111111,
             "#46039f"
            ],
            [
             0.2222222222222222,
             "#7201a8"
            ],
            [
             0.3333333333333333,
             "#9c179e"
            ],
            [
             0.4444444444444444,
             "#bd3786"
            ],
            [
             0.5555555555555556,
             "#d8576b"
            ],
            [
             0.6666666666666666,
             "#ed7953"
            ],
            [
             0.7777777777777778,
             "#fb9f3a"
            ],
            [
             0.8888888888888888,
             "#fdca26"
            ],
            [
             1,
             "#f0f921"
            ]
           ],
           "sequentialminus": [
            [
             0,
             "#0d0887"
            ],
            [
             0.1111111111111111,
             "#46039f"
            ],
            [
             0.2222222222222222,
             "#7201a8"
            ],
            [
             0.3333333333333333,
             "#9c179e"
            ],
            [
             0.4444444444444444,
             "#bd3786"
            ],
            [
             0.5555555555555556,
             "#d8576b"
            ],
            [
             0.6666666666666666,
             "#ed7953"
            ],
            [
             0.7777777777777778,
             "#fb9f3a"
            ],
            [
             0.8888888888888888,
             "#fdca26"
            ],
            [
             1,
             "#f0f921"
            ]
           ]
          },
          "colorway": [
           "#636efa",
           "#EF553B",
           "#00cc96",
           "#ab63fa",
           "#FFA15A",
           "#19d3f3",
           "#FF6692",
           "#B6E880",
           "#FF97FF",
           "#FECB52"
          ],
          "font": {
           "color": "#2a3f5f"
          },
          "geo": {
           "bgcolor": "white",
           "lakecolor": "white",
           "landcolor": "#E5ECF6",
           "showlakes": true,
           "showland": true,
           "subunitcolor": "white"
          },
          "hoverlabel": {
           "align": "left"
          },
          "hovermode": "closest",
          "mapbox": {
           "style": "light"
          },
          "paper_bgcolor": "white",
          "plot_bgcolor": "#E5ECF6",
          "polar": {
           "angularaxis": {
            "gridcolor": "white",
            "linecolor": "white",
            "ticks": ""
           },
           "bgcolor": "#E5ECF6",
           "radialaxis": {
            "gridcolor": "white",
            "linecolor": "white",
            "ticks": ""
           }
          },
          "scene": {
           "xaxis": {
            "backgroundcolor": "#E5ECF6",
            "gridcolor": "white",
            "gridwidth": 2,
            "linecolor": "white",
            "showbackground": true,
            "ticks": "",
            "zerolinecolor": "white"
           },
           "yaxis": {
            "backgroundcolor": "#E5ECF6",
            "gridcolor": "white",
            "gridwidth": 2,
            "linecolor": "white",
            "showbackground": true,
            "ticks": "",
            "zerolinecolor": "white"
           },
           "zaxis": {
            "backgroundcolor": "#E5ECF6",
            "gridcolor": "white",
            "gridwidth": 2,
            "linecolor": "white",
            "showbackground": true,
            "ticks": "",
            "zerolinecolor": "white"
           }
          },
          "shapedefaults": {
           "line": {
            "color": "#2a3f5f"
           }
          },
          "ternary": {
           "aaxis": {
            "gridcolor": "white",
            "linecolor": "white",
            "ticks": ""
           },
           "baxis": {
            "gridcolor": "white",
            "linecolor": "white",
            "ticks": ""
           },
           "bgcolor": "#E5ECF6",
           "caxis": {
            "gridcolor": "white",
            "linecolor": "white",
            "ticks": ""
           }
          },
          "title": {
           "x": 0.05
          },
          "xaxis": {
           "automargin": true,
           "gridcolor": "white",
           "linecolor": "white",
           "ticks": "",
           "title": {
            "standoff": 15
           },
           "zerolinecolor": "white",
           "zerolinewidth": 2
          },
          "yaxis": {
           "automargin": true,
           "gridcolor": "white",
           "linecolor": "white",
           "ticks": "",
           "title": {
            "standoff": 15
           },
           "zerolinecolor": "white",
           "zerolinewidth": 2
          }
         }
        },
        "xaxis": {
         "anchor": "y",
         "autorange": true,
         "domain": [
          0,
          1
         ],
         "range": [
          48.5,
          90.5
         ],
         "title": {
          "text": "restingheartrate"
         },
         "type": "linear"
        },
        "yaxis": {
         "anchor": "x",
         "autorange": true,
         "domain": [
          0,
          1
         ],
         "range": [
          0,
          132.6315789473684
         ],
         "title": {
          "text": "count"
         }
        }
       }
      },
      "image/png": "[encoded data removed]",
      "text/html": [
       "<div>                            <div id=\"b668f3c0-84d0-4e91-8cf9-7cc31302741e\" class=\"plotly-graph-div\" style=\"height:525px; width:100%;\"></div>            <script type=\"text/javascript\">                require([\"plotly\"], function(Plotly) {                    window.PLOTLYENV=window.PLOTLYENV || {};                                    if (document.getElementById(\"b668f3c0-84d0-4e91-8cf9-7cc31302741e\")) {                    Plotly.newPlot(                        \"b668f3c0-84d0-4e91-8cf9-7cc31302741e\",                        [{\"alignmentgroup\":\"True\",\"bingroup\":\"x\",\"hovertemplate\":\"restingheartrate=%{x}<br>count=%{y}<extra></extra>\",\"legendgroup\":\"\",\"marker\":{\"color\":\"#636efa\",\"pattern\":{\"shape\":\"\"}},\"name\":\"\",\"offsetgroup\":\"\",\"orientation\":\"v\",\"showlegend\":false,\"x\":[71.0,69.0,69.0,67.0,67.0,67.0,67.0,66.0,68.0,60.0,62.0,61.0,60.0,59.0,60.0,60.0,59.0,62.0,62.0,63.0,63.0,63.0,62.0,61.0,74.0,74.0,70.0,70.0,70.0,63.0,60.0,58.0,57.0,56.0,57.0,57.0,58.0,57.0,80.0,80.0,80.0,81.0,81.0,80.0,83.0,73.0,72.0,73.0,72.0,74.0,76.0,78.0,78.0,80.0,63.0,64.0,65.0,67.0,67.0,67.0,69.0,68.0,69.0,60.0,61.0,63.0,61.0,60.0,61.0,61.0,58.0,56.0,60.0,60.0,57.0,56.0,56.0,58.0,58.0,57.0,56.0,53.0,53.0,51.0,51.0,50.0,50.0,50.0,51.0,49.0,61.0,61.0,62.0,63.0,63.0,63.0,62.0,62.0,61.0,61.0,69.0,65.0,66.0,69.0,65.0,65.0,64.0,64.0,75.0,60.0,77.0,60.0,76.0,62.0,79.0,60.0,82.0,59.0,80.0,60.0,81.0,60.0,78.0,60.0,76.0,62.0,76.0,64.0,74.0,63.0,75.0,63.0,73.0,60.0,78.0,61.0,61.0,67.0,67.0,69.0,68.0,68.0,66.0,66.0,67.0,68.0,64.0,63.0,61.0,60.0,61.0,60.0,62.0,64.0,66.0,66.0,69.0,69.0,69.0,71.0,72.0,71.0,69.0,69.0,69.0,66.0,69.0,69.0,67.0,68.0,68.0,70.0,69.0,71.0,73.0,73.0,72.0,72.0,72.0,72.0,73.0,75.0,74.0,76.0,75.0,73.0,71.0,71.0,70.0,71.0,71.0,71.0,72.0,72.0,72.0,71.0,68.0,69.0,68.0,72.0,56.0,57.0,57.0,54.0,54.0,57.0,54.0,53.0,52.0,52.0,52.0,56.0,57.0,56.0,54.0,54.0,54.0,53.0,54.0,55.0,56.0,58.0,60.0,60.0,59.0,59.0,59.0,58.0,59.0,61.0,61.0,58.0,57.0,57.0,57.0,58.0,58.0,55.0,56.0,56.0,56.0,55.0,56.0,56.0,55.0,56.0,55.0,56.0,56.0,57.0,57.0,58.0,58.0,58.0,53.0,50.0,56.0,61.0,64.0,64.0,65.0,61.0,64.0,66.0,67.0,66.0,64.0,64.0,65.0,65.0,67.0,68.0,65.0,65.0,65.0,65.0,65.0,67.0,68.0,67.0,67.0,66.0,65.0,66.0,66.0,65.0,65.0,68.0,69.0,69.0,68.0,65.0,64.0,61.0,62.0,62.0,62.0,62.0,63.0,64.0,63.0,63.0,62.0,63.0,64.0,63.0,64.0,62.0,62.0,63.0,63.0,63.0,63.0,63.0,65.0,66.0,68.0,67.0,67.0,66.0,63.0,67.0,72.0,60.0,60.0,60.0,62.0,59.0,60.0,61.0,61.0,62.0,59.0,59.0,60.0,62.0,65.0,65.0,69.0,69.0,64.0,62.0,64.0,62.0,60.0,58.0,57.0,57.0,59.0,61.0,61.0,61.0,62.0,64.0,70.0,67.0,69.0,71.0,73.0,71.0,72.0,69.0,66.0,81.0,59.0,59.0,60.0,58.0,59.0,59.0,58.0,60.0,59.0,59.0,58.0,57.0,59.0,57.0,58.0,65.0,63.0,72.0,76.0,73.0,73.0,73.0,73.0,73.0,75.0,78.0,76.0,76.0,78.0,78.0,77.0,79.0,79.0,79.0,79.0,82.0,82.0,80.0,81.0,79.0,77.0,75.0,74.0,76.0,74.0,73.0,71.0,71.0,70.0,68.0,69.0,71.0,72.0,74.0,76.0,75.0,78.0,78.0,78.0,58.0,55.0,56.0,57.0,58.0,58.0,58.0,57.0,59.0,61.0,60.0,59.0,57.0,57.0,58.0,58.0,59.0,59.0,72.0,65.0,71.0,63.0,81.0,73.0,60.0,60.0,61.0,57.0,56.0,62.0,58.0,57.0,59.0,61.0,60.0,64.0,60.0,61.0,63.0,64.0,66.0,66.0,65.0,61.0,74.0,61.0,64.0,62.0,63.0,64.0,58.0,59.0,63.0,59.0,58.0,58.0,59.0,58.0,66.0,64.0,64.0,72.0,71.0,70.0,71.0,71.0,73.0,68.0,70.0,69.0,71.0,71.0,70.0,69.0,69.0,81.0,71.0,70.0,70.0,69.0,72.0,73.0,73.0,71.0,78.0,80.0,69.0,83.0,83.0,83.0,77.0,81.0,81.0,81.0,81.0,79.0,79.0,79.0,78.0,77.0,77.0,82.0,70.0,69.0,61.0,80.0,79.0,61.0,58.0,72.0,61.0,57.0,68.0,65.0,72.0,64.0,57.0,59.0,54.0,70.0,62.0,66.0,82.0,62.0,76.0,72.0,62.0,57.0,58.0,55.0,73.0,60.0,74.0,66.0,78.0,79.0,63.0,77.0,73.0,63.0,58.0,58.0,56.0,72.0,73.0,61.0,73.0,73.0,56.0,67.0,65.0,79.0,74.0,63.0,59.0,57.0,55.0,62.0,56.0,68.0,66.0,80.0,74.0,63.0,59.0,58.0,57.0,72.0,64.0,64.0,65.0,68.0,66.0,66.0,70.0,71.0,71.0,70.0,70.0,71.0,71.0,71.0,71.0,76.0,75.0,75.0,74.0,72.0,71.0,72.0,63.0,71.0,59.0,78.0,72.0,67.0,58.0,64.0,52.0,68.0,64.0,72.0,75.0,74.0,75.0,74.0,74.0,73.0,73.0,73.0,73.0,73.0,73.0,72.0,73.0,71.0,69.0,67.0,66.0,67.0,69.0,73.0,74.0,64.0,60.0,60.0,61.0,61.0,61.0,61.0,62.0,62.0,61.0,60.0,59.0,59.0,58.0,57.0,58.0,57.0,57.0,57.0,56.0,57.0,58.0,59.0,59.0,59.0,59.0,59.0,60.0,60.0,60.0,60.0,60.0,60.0,59.0,60.0,59.0,60.0,59.0,60.0,59.0,59.0,59.0,58.0,58.0,57.0,57.0,56.0,56.0,55.0,56.0,56.0,56.0,59.0,61.0,62.0,64.0,66.0,65.0,68.0,67.0,69.0,68.0,67.0,67.0,67.0,66.0,66.0,66.0,66.0,66.0,64.0,62.0,60.0,60.0,60.0,60.0,62.0,62.0,60.0,61.0,60.0,60.0,61.0,63.0,61.0,59.0,59.0,60.0,61.0,62.0,63.0,62.0,60.0,62.0,63.0,63.0,62.0,61.0,59.0,61.0,61.0,62.0,64.0,64.0,63.0,62.0,61.0,59.0,59.0,59.0,60.0,62.0,64.0,64.0,62.0,61.0,63.0,64.0,64.0,63.0,62.0,62.0,63.0,62.0,64.0,63.0,65.0,67.0,66.0,65.0,64.0,71.0,62.0,62.0,69.0,61.0,82.0,79.0,62.0,58.0,63.0,57.0,65.0,61.0,62.0,64.0,67.0,71.0,69.0,66.0,63.0,60.0,58.0,56.0,57.0,56.0,57.0,58.0,56.0,53.0,54.0,55.0,56.0,57.0,58.0,57.0,59.0,60.0,61.0,63.0,64.0,62.0,63.0,66.0,80.0,81.0,81.0,84.0,85.0,86.0,88.0,86.0,88.0,86.0,88.0,89.0,89.0,88.0,89.0,89.0,88.0,86.0,87.0,86.0,87.0,89.0,89.0,89.0,88.0,90.0,88.0,88.0,87.0,87.0,89.0,89.0,87.0,89.0,89.0,88.0,88.0,86.0,87.0,86.0,86.0,87.0,87.0,86.0,86.0,85.0,84.0,84.0,83.0,82.0,80.0,68.0,67.0,86.0,86.0,84.0,82.0,80.0,82.0,84.0,85.0,85.0,86.0,84.0,84.0,82.0,82.0,83.0,81.0,82.0,83.0,82.0,83.0,82.0,84.0,84.0,83.0,83.0,82.0,81.0,82.0,81.0,70.0,71.0,73.0,71.0,70.0,71.0,73.0,71.0,71.0,70.0,71.0,73.0,73.0,74.0,77.0,78.0,81.0,79.0,77.0,77.0,77.0,75.0,74.0,74.0,75.0,74.0,74.0,74.0,74.0,75.0,74.0,74.0,74.0,75.0,76.0,76.0,75.0,76.0,78.0,80.0,79.0,78.0,77.0,77.0,77.0,75.0,74.0,75.0,73.0,72.0,70.0,68.0,69.0,71.0,74.0,74.0,74.0,73.0,74.0,73.0,72.0,73.0,74.0,73.0,71.0,72.0,72.0,73.0,72.0,71.0,70.0,69.0,69.0,71.0,69.0,68.0,67.0,68.0,68.0,70.0,70.0,69.0,69.0,69.0,70.0,69.0,71.0,73.0,72.0,74.0,74.0,75.0,75.0,74.0,75.0,73.0,72.0,72.0,72.0,71.0,72.0,72.0,71.0,73.0,72.0,72.0,74.0,75.0,73.0,72.0,74.0,75.0,76.0,76.0,75.0,75.0,76.0,76.0,77.0,76.0,77.0,75.0,72.0,72.0,71.0,71.0,70.0,72.0,72.0,72.0,73.0,72.0,74.0,73.0,73.0,71.0,73.0,75.0,76.0,75.0,77.0,76.0,76.0,75.0,76.0,74.0,72.0,71.0,72.0,73.0,73.0,73.0,73.0,72.0,74.0,74.0,75.0,77.0,76.0,77.0,77.0,77.0,79.0,79.0,80.0,80.0,80.0,79.0,77.0,77.0,76.0,74.0,73.0,70.0,69.0,69.0,71.0,72.0,73.0,74.0,76.0,75.0,75.0,76.0,76.0,77.0,78.0,79.0,82.0,82.0,83.0,82.0,80.0,78.0,75.0,74.0,75.0,74.0,73.0,73.0,72.0,71.0,70.0,71.0,73.0,74.0,74.0,73.0,71.0,72.0,71.0,72.0,73.0,74.0,77.0,78.0,78.0,77.0,78.0,79.0,79.0,81.0,82.0,81.0,81.0,78.0,77.0,75.0,76.0,74.0,74.0,74.0,74.0,75.0,76.0,74.0,75.0,77.0,77.0,78.0,79.0,80.0,81.0,81.0,82.0,80.0,78.0,75.0,74.0,73.0,74.0,72.0,72.0,72.0,73.0,73.0,72.0,73.0,73.0,72.0,74.0,71.0,74.0,75.0,75.0,75.0,74.0,75.0,75.0,75.0,77.0,75.0,75.0,72.0,73.0,72.0,71.0,73.0,72.0,72.0,72.0,73.0,73.0,74.0,77.0,78.0,79.0,79.0,78.0,78.0,79.0,78.0,78.0,80.0,81.0,82.0,80.0,79.0,77.0,75.0,74.0,73.0,71.0,73.0,74.0,76.0,76.0,77.0,76.0,77.0,76.0,76.0,78.0,78.0,78.0,78.0,79.0,77.0,77.0,78.0,77.0,76.0,77.0,77.0,75.0,75.0,74.0,75.0,76.0,75.0,74.0,76.0,75.0,76.0,75.0,74.0,74.0,76.0,77.0,77.0,79.0,78.0,76.0,76.0,74.0,72.0,72.0,71.0,71.0,73.0,74.0,74.0,75.0,74.0,73.0,75.0,78.0,78.0,76.0,75.0,75.0,76.0,77.0,80.0,80.0,78.0,80.0,82.0,81.0,78.0,78.0,76.0,76.0,76.0,77.0,78.0,76.0,75.0,75.0,74.0,74.0,74.0,75.0,77.0,77.0,79.0,79.0,78.0,77.0,77.0,77.0,75.0,58.0,65.0,66.0,65.0,64.0,63.0,62.0,62.0,63.0,62.0,52.0,67.0,63.0,62.0,70.0,74.0,62.0,77.0,72.0,67.0,58.0,61.0,52.0,66.0,63.0,77.0,76.0,76.0,76.0,75.0,74.0,75.0,76.0,77.0,75.0,77.0,76.0,76.0,78.0,77.0,77.0,77.0,76.0,75.0,75.0,74.0,74.0,75.0,75.0,56.0,60.0,60.0,64.0,62.0,60.0,58.0,56.0,58.0,58.0,60.0,62.0,62.0,65.0,66.0,65.0,64.0,64.0,67.0,65.0,65.0,66.0,66.0,66.0,66.0,68.0,70.0,70.0,70.0,68.0,66.0,65.0,64.0,63.0,62.0,62.0,61.0,61.0,62.0,64.0,66.0,67.0,67.0,67.0,65.0,65.0,65.0,66.0,67.0,67.0,66.0,65.0,65.0,64.0,63.0,63.0,62.0,62.0,61.0,61.0,61.0,61.0,61.0,61.0,61.0,61.0,64.0,62.0,62.0,59.0,61.0,59.0,60.0,62.0,63.0,63.0,63.0,61.0,60.0,61.0,61.0,60.0,62.0,62.0,62.0,61.0,60.0,59.0,59.0,60.0,61.0,61.0,61.0,61.0,63.0,65.0,66.0,68.0,67.0,65.0,63.0,63.0,62.0,63.0,65.0,66.0,65.0,63.0,62.0,62.0,61.0,61.0,62.0,62.0,61.0,60.0,61.0,62.0,60.0,59.0,68.0,69.0,71.0,74.0,74.0,75.0,75.0,73.0,73.0,72.0,72.0,75.0,72.0,71.0,69.0,68.0,68.0,69.0,68.0,69.0,70.0,71.0,70.0,70.0,69.0,69.0,70.0,72.0,71.0,69.0,71.0,70.0,70.0,69.0,69.0,69.0,69.0,68.0,65.0,66.0,65.0,69.0,63.0,60.0,58.0,59.0,61.0,62.0,60.0,58.0,60.0,62.0,63.0,62.0,64.0,65.0,66.0,64.0,63.0,61.0,62.0,63.0,65.0,63.0,61.0,61.0,60.0,61.0,62.0,64.0,67.0,67.0,64.0,62.0,60.0,59.0,61.0,62.0,60.0,60.0,60.0,62.0,62.0,61.0,63.0,64.0,63.0,63.0,62.0,60.0,58.0,57.0,59.0,56.0,57.0,58.0,58.0,57.0,57.0,68.0,68.0,66.0,65.0,63.0,61.0,61.0,63.0,63.0,63.0,63.0,63.0,64.0,63.0,61.0,62.0,64.0,64.0,64.0,66.0,66.0,66.0,65.0,68.0,66.0,65.0,65.0,65.0,68.0,68.0,67.0,67.0,66.0,65.0,65.0,66.0,65.0,65.0,64.0,64.0,62.0,61.0,61.0,61.0,64.0,61.0,61.0,61.0,62.0,61.0,61.0,61.0,63.0,63.0,62.0,62.0,63.0,62.0,64.0,66.0,65.0,65.0,67.0,66.0,63.0,63.0,65.0,63.0,64.0,63.0,65.0,62.0,61.0,61.0,60.0,62.0,62.0,60.0,61.0,61.0,62.0,62.0,62.0,63.0,63.0,63.0,60.0,59.0,60.0,57.0,59.0,58.0,59.0,60.0,61.0,61.0,61.0,63.0,65.0,63.0,63.0,61.0,61.0,64.0,64.0,63.0,61.0,62.0,61.0,61.0,61.0,63.0,62.0,61.0,61.0,61.0,59.0,59.0,60.0,62.0,65.0,67.0,67.0,67.0,66.0,67.0,67.0,67.0,67.0,64.0,64.0,62.0,61.0,63.0,61.0,60.0,61.0,61.0,61.0,59.0,59.0,61.0,62.0,63.0,62.0,63.0,66.0,66.0,66.0,66.0,64.0,64.0,66.0,67.0,67.0,65.0,67.0,68.0,71.0,68.0,68.0,65.0,64.0,64.0,64.0,64.0,64.0,64.0,64.0,63.0,63.0,66.0,66.0,67.0,66.0,66.0,66.0,65.0,63.0,63.0,66.0,65.0,65.0,65.0,65.0,63.0,63.0,66.0,65.0,65.0,67.0,63.0,63.0,62.0,62.0,62.0,62.0,63.0,63.0,61.0,61.0,63.0,63.0,64.0,64.0,66.0,64.0,64.0,65.0,66.0,67.0,68.0,68.0,68.0,67.0,66.0,66.0,64.0,64.0,63.0,60.0,60.0,58.0,58.0,60.0,60.0,61.0,61.0,61.0,62.0,63.0,63.0,65.0,65.0,66.0,68.0,68.0,68.0,61.0,65.0,66.0,66.0,63.0,63.0,62.0,62.0,61.0,60.0,63.0,63.0,64.0,63.0,63.0,63.0,62.0,62.0,70.0,69.0,69.0,60.0,61.0,70.0,75.0,64.0,79.0,73.0,68.0,61.0,51.0,66.0,64.0,62.0,70.0,71.0,60.0,78.0,71.0,67.0,73.0,59.0,60.0,81.0,70.0,60.0,60.0,59.0,60.0,63.0,63.0,72.0,53.0,60.0],\"xaxis\":\"x\",\"yaxis\":\"y\",\"type\":\"histogram\"}],                        {\"template\":{\"data\":{\"histogram2dcontour\":[{\"type\":\"histogram2dcontour\",\"colorbar\":{\"outlinewidth\":0,\"ticks\":\"\"},\"colorscale\":[[0.0,\"#0d0887\"],[0.1111111111111111,\"#46039f\"],[0.2222222222222222,\"#7201a8\"],[0.3333333333333333,\"#9c179e\"],[0.4444444444444444,\"#bd3786\"],[0.5555555555555556,\"#d8576b\"],[0.6666666666666666,\"#ed7953\"],[0.7777777777777778,\"#fb9f3a\"],[0.8888888888888888,\"#fdca26\"],[1.0,\"#f0f921\"]]}],\"choropleth\":[{\"type\":\"choropleth\",\"colorbar\":{\"outlinewidth\":0,\"ticks\":\"\"}}],\"histogram2d\":[{\"type\":\"histogram2d\",\"colorbar\":{\"outlinewidth\":0,\"ticks\":\"\"},\"colorscale\":[[0.0,\"#0d0887\"],[0.1111111111111111,\"#46039f\"],[0.2222222222222222,\"#7201a8\"],[0.3333333333333333,\"#9c179e\"],[0.4444444444444444,\"#bd3786\"],[0.5555555555555556,\"#d8576b\"],[0.6666666666666666,\"#ed7953\"],[0.7777777777777778,\"#fb9f3a\"],[0.8888888888888888,\"#fdca26\"],[1.0,\"#f0f921\"]]}],\"heatmap\":[{\"type\":\"heatmap\",\"colorbar\":{\"outlinewidth\":0,\"ticks\":\"\"},\"colorscale\":[[0.0,\"#0d0887\"],[0.1111111111111111,\"#46039f\"],[0.2222222222222222,\"#7201a8\"],[0.3333333333333333,\"#9c179e\"],[0.4444444444444444,\"#bd3786\"],[0.5555555555555556,\"#d8576b\"],[0.6666666666666666,\"#ed7953\"],[0.7777777777777778,\"#fb9f3a\"],[0.8888888888888888,\"#fdca26\"],[1.0,\"#f0f921\"]]}],\"heatmapgl\":[{\"type\":\"heatmapgl\",\"colorbar\":{\"outlinewidth\":0,\"ticks\":\"\"},\"colorscale\":[[0.0,\"#0d0887\"],[0.1111111111111111,\"#46039f\"],[0.2222222222222222,\"#7201a8\"],[0.3333333333333333,\"#9c179e\"],[0.4444444444444444,\"#bd3786\"],[0.5555555555555556,\"#d8576b\"],[0.6666666666666666,\"#ed7953\"],[0.7777777777777778,\"#fb9f3a\"],[0.8888888888888888,\"#fdca26\"],[1.0,\"#f0f921\"]]}],\"contourcarpet\":[{\"type\":\"contourcarpet\",\"colorbar\":{\"outlinewidth\":0,\"ticks\":\"\"}}],\"contour\":[{\"type\":\"contour\",\"colorbar\":{\"outlinewidth\":0,\"ticks\":\"\"},\"colorscale\":[[0.0,\"#0d0887\"],[0.1111111111111111,\"#46039f\"],[0.2222222222222222,\"#7201a8\"],[0.3333333333333333,\"#9c179e\"],[0.4444444444444444,\"#bd3786\"],[0.5555555555555556,\"#d8576b\"],[0.6666666666666666,\"#ed7953\"],[0.7777777777777778,\"#fb9f3a\"],[0.8888888888888888,\"#fdca26\"],[1.0,\"#f0f921\"]]}],\"surface\":[{\"type\":\"surface\",\"colorbar\":{\"outlinewidth\":0,\"ticks\":\"\"},\"colorscale\":[[0.0,\"#0d0887\"],[0.1111111111111111,\"#46039f\"],[0.2222222222222222,\"#7201a8\"],[0.3333333333333333,\"#9c179e\"],[0.4444444444444444,\"#bd3786\"],[0.5555555555555556,\"#d8576b\"],[0.6666666666666666,\"#ed7953\"],[0.7777777777777778,\"#fb9f3a\"],[0.8888888888888888,\"#fdca26\"],[1.0,\"#f0f921\"]]}],\"mesh3d\":[{\"type\":\"mesh3d\",\"colorbar\":{\"outlinewidth\":0,\"ticks\":\"\"}}],\"scatter\":[{\"fillpattern\":{\"fillmode\":\"overlay\",\"size\":10,\"solidity\":0.2},\"type\":\"scatter\"}],\"parcoords\":[{\"type\":\"parcoords\",\"line\":{\"colorbar\":{\"outlinewidth\":0,\"ticks\":\"\"}}}],\"scatterpolargl\":[{\"type\":\"scatterpolargl\",\"marker\":{\"colorbar\":{\"outlinewidth\":0,\"ticks\":\"\"}}}],\"bar\":[{\"error_x\":{\"color\":\"#2a3f5f\"},\"error_y\":{\"color\":\"#2a3f5f\"},\"marker\":{\"line\":{\"color\":\"#E5ECF6\",\"width\":0.5},\"pattern\":{\"fillmode\":\"overlay\",\"size\":10,\"solidity\":0.2}},\"type\":\"bar\"}],\"scattergeo\":[{\"type\":\"scattergeo\",\"marker\":{\"colorbar\":{\"outlinewidth\":0,\"ticks\":\"\"}}}],\"scatterpolar\":[{\"type\":\"scatterpolar\",\"marker\":{\"colorbar\":{\"outlinewidth\":0,\"ticks\":\"\"}}}],\"histogram\":[{\"marker\":{\"pattern\":{\"fillmode\":\"overlay\",\"size\":10,\"solidity\":0.2}},\"type\":\"histogram\"}],\"scattergl\":[{\"type\":\"scattergl\",\"marker\":{\"colorbar\":{\"outlinewidth\":0,\"ticks\":\"\"}}}],\"scatter3d\":[{\"type\":\"scatter3d\",\"line\":{\"colorbar\":{\"outlinewidth\":0,\"ticks\":\"\"}},\"marker\":{\"colorbar\":{\"outlinewidth\":0,\"ticks\":\"\"}}}],\"scattermapbox\":[{\"type\":\"scattermapbox\",\"marker\":{\"colorbar\":{\"outlinewidth\":0,\"ticks\":\"\"}}}],\"scatterternary\":[{\"type\":\"scatterternary\",\"marker\":{\"colorbar\":{\"outlinewidth\":0,\"ticks\":\"\"}}}],\"scattercarpet\":[{\"type\":\"scattercarpet\",\"marker\":{\"colorbar\":{\"outlinewidth\":0,\"ticks\":\"\"}}}],\"carpet\":[{\"aaxis\":{\"endlinecolor\":\"#2a3f5f\",\"gridcolor\":\"white\",\"linecolor\":\"white\",\"minorgridcolor\":\"white\",\"startlinecolor\":\"#2a3f5f\"},\"baxis\":{\"endlinecolor\":\"#2a3f5f\",\"gridcolor\":\"white\",\"linecolor\":\"white\",\"minorgridcolor\":\"white\",\"startlinecolor\":\"#2a3f5f\"},\"type\":\"carpet\"}],\"table\":[{\"cells\":{\"fill\":{\"color\":\"#EBF0F8\"},\"line\":{\"color\":\"white\"}},\"header\":{\"fill\":{\"color\":\"#C8D4E3\"},\"line\":{\"color\":\"white\"}},\"type\":\"table\"}],\"barpolar\":[{\"marker\":{\"line\":{\"color\":\"#E5ECF6\",\"width\":0.5},\"pattern\":{\"fillmode\":\"overlay\",\"size\":10,\"solidity\":0.2}},\"type\":\"barpolar\"}],\"pie\":[{\"automargin\":true,\"type\":\"pie\"}]},\"layout\":{\"autotypenumbers\":\"strict\",\"colorway\":[\"#636efa\",\"#EF553B\",\"#00cc96\",\"#ab63fa\",\"#FFA15A\",\"#19d3f3\",\"#FF6692\",\"#B6E880\",\"#FF97FF\",\"#FECB52\"],\"font\":{\"color\":\"#2a3f5f\"},\"hovermode\":\"closest\",\"hoverlabel\":{\"align\":\"left\"},\"paper_bgcolor\":\"white\",\"plot_bgcolor\":\"#E5ECF6\",\"polar\":{\"bgcolor\":\"#E5ECF6\",\"angularaxis\":{\"gridcolor\":\"white\",\"linecolor\":\"white\",\"ticks\":\"\"},\"radialaxis\":{\"gridcolor\":\"white\",\"linecolor\":\"white\",\"ticks\":\"\"}},\"ternary\":{\"bgcolor\":\"#E5ECF6\",\"aaxis\":{\"gridcolor\":\"white\",\"linecolor\":\"white\",\"ticks\":\"\"},\"baxis\":{\"gridcolor\":\"white\",\"linecolor\":\"white\",\"ticks\":\"\"},\"caxis\":{\"gridcolor\":\"white\",\"linecolor\":\"white\",\"ticks\":\"\"}},\"coloraxis\":{\"colorbar\":{\"outlinewidth\":0,\"ticks\":\"\"}},\"colorscale\":{\"sequential\":[[0.0,\"#0d0887\"],[0.1111111111111111,\"#46039f\"],[0.2222222222222222,\"#7201a8\"],[0.3333333333333333,\"#9c179e\"],[0.4444444444444444,\"#bd3786\"],[0.5555555555555556,\"#d8576b\"],[0.6666666666666666,\"#ed7953\"],[0.7777777777777778,\"#fb9f3a\"],[0.8888888888888888,\"#fdca26\"],[1.0,\"#f0f921\"]],\"sequentialminus\":[[0.0,\"#0d0887\"],[0.1111111111111111,\"#46039f\"],[0.2222222222222222,\"#7201a8\"],[0.3333333333333333,\"#9c179e\"],[0.4444444444444444,\"#bd3786\"],[0.5555555555555556,\"#d8576b\"],[0.6666666666666666,\"#ed7953\"],[0.7777777777777778,\"#fb9f3a\"],[0.8888888888888888,\"#fdca26\"],[1.0,\"#f0f921\"]],\"diverging\":[[0,\"#8e0152\"],[0.1,\"#c51b7d\"],[0.2,\"#de77ae\"],[0.3,\"#f1b6da\"],[0.4,\"#fde0ef\"],[0.5,\"#f7f7f7\"],[0.6,\"#e6f5d0\"],[0.7,\"#b8e186\"],[0.8,\"#7fbc41\"],[0.9,\"#4d9221\"],[1,\"#276419\"]]},\"xaxis\":{\"gridcolor\":\"white\",\"linecolor\":\"white\",\"ticks\":\"\",\"title\":{\"standoff\":15},\"zerolinecolor\":\"white\",\"automargin\":true,\"zerolinewidth\":2},\"yaxis\":{\"gridcolor\":\"white\",\"linecolor\":\"white\",\"ticks\":\"\",\"title\":{\"standoff\":15},\"zerolinecolor\":\"white\",\"automargin\":true,\"zerolinewidth\":2},\"scene\":{\"xaxis\":{\"backgroundcolor\":\"#E5ECF6\",\"gridcolor\":\"white\",\"linecolor\":\"white\",\"showbackground\":true,\"ticks\":\"\",\"zerolinecolor\":\"white\",\"gridwidth\":2},\"yaxis\":{\"backgroundcolor\":\"#E5ECF6\",\"gridcolor\":\"white\",\"linecolor\":\"white\",\"showbackground\":true,\"ticks\":\"\",\"zerolinecolor\":\"white\",\"gridwidth\":2},\"zaxis\":{\"backgroundcolor\":\"#E5ECF6\",\"gridcolor\":\"white\",\"linecolor\":\"white\",\"showbackground\":true,\"ticks\":\"\",\"zerolinecolor\":\"white\",\"gridwidth\":2}},\"shapedefaults\":{\"line\":{\"color\":\"#2a3f5f\"}},\"annotationdefaults\":{\"arrowcolor\":\"#2a3f5f\",\"arrowhead\":0,\"arrowwidth\":1},\"geo\":{\"bgcolor\":\"white\",\"landcolor\":\"#E5ECF6\",\"subunitcolor\":\"white\",\"showland\":true,\"showlakes\":true,\"lakecolor\":\"white\"},\"title\":{\"x\":0.05},\"mapbox\":{\"style\":\"light\"}}},\"xaxis\":{\"anchor\":\"y\",\"domain\":[0.0,1.0],\"title\":{\"text\":\"restingheartrate\"}},\"yaxis\":{\"anchor\":\"x\",\"domain\":[0.0,1.0],\"title\":{\"text\":\"count\"}},\"legend\":{\"tracegroupgap\":0},\"margin\":{\"t\":60},\"barmode\":\"relative\"},                        {\"responsive\": true}                    ).then(function(){\n",
       "                            \n",
       "var gd = document.getElementById('b668f3c0-84d0-4e91-8cf9-7cc31302741e');\n",
       "var x = new MutationObserver(function (mutations, observer) {{\n",
       "        var display = window.getComputedStyle(gd).display;\n",
       "        if (!display || display === 'none') {{\n",
       "            console.log([gd, 'removed!']);\n",
       "            Plotly.purge(gd);\n",
       "            observer.disconnect();\n",
       "        }}\n",
       "}});\n",
       "\n",
       "// Listen for the removal of the full notebook cells\n",
       "var notebookContainer = gd.closest('#notebook-container');\n",
       "if (notebookContainer) {{\n",
       "    x.observe(notebookContainer, {childList: true});\n",
       "}}\n",
       "\n",
       "// Listen for the clearing of the current output cell\n",
       "var outputEl = gd.closest('.output');\n",
       "if (outputEl) {{\n",
       "    x.observe(outputEl, {childList: true});\n",
       "}}\n",
       "\n",
       "                        })                };                });            </script>        </div>"
      ]
     },
     "metadata": {},
     "output_type": "display_data"
    }
   ],
   "source": [
    "fig = px.histogram(results, x='restingheartrate')\n",
    "fig.show()"
   ]
  },
  {
   "cell_type": "markdown",
   "id": "5c82871f-a481-4bd5-a9ba-70493c8b3ff3",
   "metadata": {},
   "source": [
    "You can also save this file to be accessed from inside R as a frame to do your analysis."
   ]
  },
  {
   "cell_type": "code",
   "execution_count": 36,
   "id": "f1b68a99-b6a5-4040-bc2c-5c91ebd724d9",
   "metadata": {
    "tags": []
   },
   "outputs": [],
   "source": [
    "results_summary.to_csv('restinghr_summary.csv')"
   ]
  }
 ],
 "metadata": {
  "kernelspec": {
   "display_name": "Python 3 (ipykernel)",
   "language": "python",
   "name": "python3"
  },
  "language_info": {
   "codemirror_mode": {
    "name": "ipython",
    "version": 3
   },
   "file_extension": ".py",
   "mimetype": "text/x-python",
   "name": "python",
   "nbconvert_exporter": "python",
   "pygments_lexer": "ipython3",
   "version": "3.10.9"
  }
 },
 "nbformat": 4,
 "nbformat_minor": 5
}
